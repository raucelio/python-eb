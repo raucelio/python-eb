{
 "cells": [
  {
   "cell_type": "markdown",
   "metadata": {},
   "source": [
    "## <font color = red> - Importar Arquivos .csv ou .xlsx\n",
    "\n",
    "##### Referência<br>\n",
    "Pandas Documentação<br>\n",
    "https://pandas.pydata.org/pandas-docs/stable/generated/pandas.DataFrame.loc.html<br>\n",
    "Importar Arquivo CSV e texto<br>\n",
    "https://pandas.pydata.org/pandas-docs/stable/generated/pandas.read_csv.html <br>\n",
    "Importar Arquivo Excel<br>\n",
    "https://pandas.pydata.org/pandas-docs/stable/generated/pandas.read_excel.html"
   ]
  },
  {
   "cell_type": "markdown",
   "metadata": {},
   "source": [
    "## <font color = red> - Importar Biblioteca Pandas"
   ]
  },
  {
   "cell_type": "markdown",
   "metadata": {},
   "source": [
    "## <font color = red> - Importar DataFrame `.csv`\n",
    "- Quando o separador por defau for `,`"
   ]
  },
  {
   "cell_type": "markdown",
   "metadata": {},
   "source": [
    "## <font color = red># `.shape`\n",
    "VIsualizar a quantidade de linha e colunas do DataFrame\n",
    "\n",
    "##### Referência\n",
    "https://pandas.pydata.org/pandas-docs/stable/generated/pandas.DataFrame.shape.html"
   ]
  },
  {
   "cell_type": "markdown",
   "metadata": {},
   "source": [
    "## <font color = red> # `.head()`\n",
    "\n",
    "- É para dar uma prévia dos primeiros registros.<br>\n",
    "df.head() ===> Visualizar apenas os 5 primeiros registros. <br>\n",
    "df.head(xx) ===> Onde xx é a quantidade de primeiros registros que você quer visualizar. <br>\n",
    "df.head(-xx) == elimina a quantidade de registros determinada pelo xx, começando pelos últimos. <br>\n",
    "\n",
    "##### Referência\n",
    "https://pandas.pydata.org/pandas-docs/stable/generated/pandas.DataFrame.head.html"
   ]
  },
  {
   "cell_type": "markdown",
   "metadata": {},
   "source": [
    "## <font color = red> # `.tail()`\n",
    "\n",
    "É para dar uma prévia dos últimos registros.<br>\n",
    "`.head()` ===> Visualizar apenas os 5 últimos registros. <br>\n",
    "`.head(xx)` ===> Onde xx é a quantidade últimos registros que se quer visualizar.<br>\n",
    "`.head(-xx)` ==> elimina a quantidade de linhas determinada pelo xx <br>\n",
    "\n",
    "##### Referência\n",
    "https://pandas.pydata.org/pandas-docs/stable/generated/pandas.DataFrame.tail.html"
   ]
  },
  {
   "cell_type": "markdown",
   "metadata": {},
   "source": [
    "- Usar `sep = ` quanto tiver algum separador entre as colunas de um Data Frame"
   ]
  },
  {
   "cell_type": "markdown",
   "metadata": {},
   "source": [
    "- Usar `header =` quando o Data Frame não tiver cabeçalho"
   ]
  },
  {
   "cell_type": "markdown",
   "metadata": {},
   "source": [
    "- Colocar o nome das colunas\n",
    "\n",
    "'DATA_MVT', 'MES', 'SG_DD_SMN', 'TRANSACAO', 'TOTAL_TRAN', 'CSM_CPU'"
   ]
  },
  {
   "cell_type": "markdown",
   "metadata": {},
   "source": [
    "## <font color = red> - Importar Data Frame `.txt`"
   ]
  },
  {
   "cell_type": "markdown",
   "metadata": {},
   "source": [
    "## <font color = red> - Importar DataFrame `.xlsx`"
   ]
  },
  {
   "cell_type": "markdown",
   "metadata": {},
   "source": [
    "- Quando já se quer especificar o index"
   ]
  },
  {
   "cell_type": "markdown",
   "metadata": {},
   "source": [
    "- Renomeando o nome do Index"
   ]
  },
  {
   "cell_type": "markdown",
   "metadata": {},
   "source": [
    "- Renomeando nome de Colunas"
   ]
  },
  {
   "cell_type": "markdown",
   "metadata": {},
   "source": [
    "- Descrição do Index"
   ]
  },
  {
   "cell_type": "markdown",
   "metadata": {},
   "source": [
    "## <font color = red> # `.count()`\n",
    "\n",
    "###### Referência\n",
    "https://pandas.pydata.org/pandas-docs/stable/generated/pandas.DataFrame.count.html"
   ]
  },
  {
   "cell_type": "code",
   "execution_count": null,
   "metadata": {},
   "outputs": [],
   "source": []
  }
 ],
 "metadata": {
  "kernelspec": {
   "display_name": "Python 3",
   "language": "python",
   "name": "python3"
  },
  "language_info": {
   "codemirror_mode": {
    "name": "ipython",
    "version": 3
   },
   "file_extension": ".py",
   "mimetype": "text/x-python",
   "name": "python",
   "nbconvert_exporter": "python",
   "pygments_lexer": "ipython3",
   "version": "3.7.1"
  }
 },
 "nbformat": 4,
 "nbformat_minor": 2
}
