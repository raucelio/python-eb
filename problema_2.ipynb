{
 "cells": [
  {
   "cell_type": "markdown",
   "metadata": {},
   "source": [
    "#### Dados\n",
    "\n",
    "O arquivo **feijao.xlsx** tem apenas variável peso (g) de grãos de feijão.\n",
    "\n",
    "####  1ª Questão) Execute:\n",
    "\n",
    "1. Importe o modulo pandas com aliás pd.\n",
    "2. Importe o modulo matplotlib.pyploy com aliás plt.\n",
    "3. Use o método read_excel() para ler a planilha **peso** do arquivo **feijão.xlsx** para criar o data frame dado.\n",
    "4. Use o método describe() da variável **peso** obter as estatísticas: número de observações, média, desvio padrão, valor mínimo, máximo, 1º quartil, 2º quartil e 3º quartil.\n",
    "5. Use o método plot(), com o argumento kind=’hist’, para fazer o histograma da variável **peso**.\n",
    "6. Use o método plot(), com o argumento kind=’box’, para fazer um boxplot da varíavel **peso**.\n"
   ]
  },
  {
   "cell_type": "markdown",
   "metadata": {},
   "source": [
    "Respotas:"
   ]
  },
  {
   "cell_type": "markdown",
   "metadata": {},
   "source": [
    "#### 2 ª Questão) Responda:\n",
    "\n",
    "1. Como posso classificar a variável peso em quantitativa (contínua/discreta) ou em qualitativa (nominal/ordinal)?\n",
    "    + Res:\n",
    "2. Quantos grãos foram análisado?\n",
    "    + Res:\n",
    "3. Qual a proporção dos dados é superior a **0.228775** ?\n",
    "    + Res:\n",
    "4. Analisando o boxplot é possível verificar algum valor muito alto para a variável **peso**?\n",
    "    + Res:"
   ]
  },
  {
   "cell_type": "markdown",
   "metadata": {},
   "source": [
    "Resposta"
   ]
  },
  {
   "cell_type": "markdown",
   "metadata": {},
   "source": [
    "#### 3 ª Questão)  Execute o códio e responda:\n",
    "```\n",
    "classe = pd.cut(dado.peso,11)\n",
    "dado.peso.groupby(classe).count()\n",
    "```\n",
    "\n",
    "1. Qual é o resultado apresentado?\n",
    "    + Res:\n",
    "2. Qual é a classe mais frequente (modal)?\n",
    "    + Res:"
   ]
  },
  {
   "cell_type": "markdown",
   "metadata": {
    "collapsed": true
   },
   "source": []
  }
 ],
 "metadata": {
  "kernelspec": {
   "display_name": "Python 3",
   "language": "python",
   "name": "python3"
  },
  "language_info": {
   "codemirror_mode": {
    "name": "ipython",
    "version": 3
   },
   "file_extension": ".py",
   "mimetype": "text/x-python",
   "name": "python",
   "nbconvert_exporter": "python",
   "pygments_lexer": "ipython3",
   "version": "3.6.3"
  }
 },
 "nbformat": 4,
 "nbformat_minor": 2
}
