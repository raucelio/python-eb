{
 "cells": [
  {
   "cell_type": "markdown",
   "metadata": {},
   "source": [
    "# <font color = red> - Series Temporais\n",
    "\n",
    "## Passageiros Aéreos\n",
    "Documentação do PyDataset (adotada a partir da documentação R. Os exemplos exibidos estão em R)\n",
    "\n",
    "### Descrição\n",
    "Os dados clássicos da companhia aérea Box & Jenkins. Total mensal de internacional\n",
    "passageiros de avião, 1949 a 1960.\n",
    "\n",
    "### Nome do Data Frame\n",
    "    AirPassengers\n",
    "\n",
    "### Formato\n",
    "Uma série temporal mensal, em milhares.\n",
    "\n",
    "### Fonte\n",
    "Caixa, G. E. P., Jenkins, G. M. e Reinsel, G. C. (1976) _Sime Série de Análise,\n",
    "Previsão e controle. Terceira edição. Holden-Day. Série G.\n",
    "\n",
    "# ---------------------------------------------------------------------------------------------------------------"
   ]
  },
  {
   "cell_type": "markdown",
   "metadata": {},
   "source": [
    "## <font color = red> - Importar Biblioteca Pandas e Pydataset\n",
    "    \n",
    "##### Referência\n",
    "https://pandas.pydata.org/pandas-docs/stable/ <br>\n",
    "https://pypi.org/project/pydataset/"
   ]
  },
  {
   "cell_type": "markdown",
   "metadata": {},
   "source": [
    "## <font color = red> - Criar o Data Frame AirPassengers"
   ]
  },
  {
   "cell_type": "markdown",
   "metadata": {},
   "source": [
    "## <font color = red>- Visualuzar o Data Frame AirPassengers"
   ]
  },
  {
   "cell_type": "markdown",
   "metadata": {},
   "source": [
    "## <font color = red> # `.head()`\n",
    "\n",
    "- É para dar uma prévia dos primeiros registros.<br>\n",
    "df.head() ===> Visualizar apenas os 5 primeiros registros. <br>\n",
    "df.head(xx) ===> Onde xx é a quantidade de primeiros registros que você quer visualizar. <br>\n",
    "df.head(-xx) == elimina a quantidade de registros determinada pelo xx, começando pelos últimos. <br>\n",
    "\n",
    "##### Referência\n",
    "https://pandas.pydata.org/pandas-docs/stable/generated/pandas.DataFrame.head.html"
   ]
  },
  {
   "cell_type": "markdown",
   "metadata": {},
   "source": [
    "## <font color = red># `.shape`\n",
    "VIsualizar a quantidade de linha e colunas do DataFrame\n",
    "\n",
    "##### Referência\n",
    "https://pandas.pydata.org/pandas-docs/stable/generated/pandas.DataFrame.shape.html"
   ]
  },
  {
   "cell_type": "markdown",
   "metadata": {},
   "source": [
    "## <font color = red> # `.tail()`\n",
    "\n",
    "É para dar uma prévia dos últimos registros.<br>\n",
    "`.head()` ===> Visualizar apenas os 5 últimos registros. <br>\n",
    "`.head(xx)` ===> Onde xx é a quantidade últimos registros que se quer visualizar.<br>\n",
    "`.head(-xx)` ==> elimina a quantidade de linhas determinada pelo xx <br>\n",
    "\n",
    "##### Referência\n",
    "https://pandas.pydata.org/pandas-docs/stable/generated/pandas.DataFrame.tail.html"
   ]
  },
  {
   "cell_type": "markdown",
   "metadata": {},
   "source": [
    "## <font color = red> # `.iloc[ : ]`\n",
    "\n",
    "Pode substituir o `.head()` e o `.tail()`<br>\n",
    "\n",
    "`.iloc[:xx]` ===> semelhanto ao `.head(xx)`\n",
    "\n",
    "##### Referência\n",
    "https://pandas.pydata.org/pandas-docs/stable/generated/pandas.DataFrame.iloc.html"
   ]
  },
  {
   "cell_type": "markdown",
   "metadata": {},
   "source": [
    "`.iloc[:-xx]` ===> semelhanto ao `.head(-xx)`"
   ]
  },
  {
   "cell_type": "markdown",
   "metadata": {},
   "source": [
    "`.iloc[-xx:]` ===> semelhant ao `.tail(xx)`"
   ]
  },
  {
   "cell_type": "markdown",
   "metadata": {},
   "source": [
    "`.iloc[xx:]` ==> `.tail(-xx)`"
   ]
  },
  {
   "cell_type": "markdown",
   "metadata": {},
   "source": [
    "`.iloc[xx:xx]` ==> Comando para fazer um slice"
   ]
  },
  {
   "cell_type": "markdown",
   "metadata": {},
   "source": [
    "## <font color = red> # `.dtypes`\n",
    "\n",
    "\n",
    "Verificar a tipagem das variáveis <br>\n",
    "\n",
    "##### Referência\n",
    "https://pandas.pydata.org/pandas-docs/stable/generated/pandas.date_range.html"
   ]
  },
  {
   "cell_type": "markdown",
   "metadata": {},
   "source": [
    "## <font color = red> # `pd.date_range`\n",
    "Criar uma variável com o formato data.\n",
    "\n",
    "\n",
    "##### Referência\n",
    "https://pandas.pydata.org/pandas-docs/stable/generated/pandas.date_range.html"
   ]
  },
  {
   "cell_type": "markdown",
   "metadata": {},
   "source": [
    "## <font color = red> - Colocar a data como índice\n",
    "    \n",
    "##### Referência\n",
    "https://pandas.pydata.org/pandas-docs/version/0.23.4/generated/pandas.Index.html"
   ]
  },
  {
   "cell_type": "markdown",
   "metadata": {},
   "source": [
    "## <font color = red> - Tanformar o índice de datetime para timestamp\n",
    "\n",
    "##### Referência\n",
    "https://pandas.pydata.org/pandas-docs/version/0.23.4/generated/pandas.Timestamp.html\n",
    "\n",
    "## <font color = red> # `datetime` vs `timestamp`\n",
    "A maior diferença entre datetime e timestamp é a seguinte:\n",
    "\n",
    "##### <font color = red>datetime:<br>\n",
    "    \n",
    "    - Representa uma data como no calendário e a hora como encontrado no relógio.\n",
    "    \n",
    "#### <font color = red>timestamp:<br>\n",
    "    \n",
    "    - Representa um ponto específico na linha do tempo e leva em consideração o fuso horário em questão (UTC). Por exemplo: quando foi 26/02/2015 16:40? depende, para mim é nesse momento, para o Japão foi a várias horas atrás, então basicamente o timestamp leva em consideração essas questões de fuso horário.\n",
    "    - Outro ponto é que geralmente quando se precisa rastrear alterações feitas em registros da base de dados, opta-se pelo uso do timestamp pois permite o detalhamento perante a linha do tempo real."
   ]
  },
  {
   "cell_type": "markdown",
   "metadata": {},
   "source": [
    "## <font color = red> # `.drop`\n",
    "- Apagar a coluna\n",
    "\n",
    "##### Referência\n",
    "https://pandas.pydata.org/pandas-docs/stable/generated/pandas.DataFrame.drop.html"
   ]
  },
  {
   "cell_type": "markdown",
   "metadata": {},
   "source": [
    "## <font color = red> - Filtrar linha\n",
    "\n",
    "- Igual `==`"
   ]
  },
  {
   "cell_type": "markdown",
   "metadata": {},
   "source": [
    "- Maior `>` ou Menor `<`"
   ]
  },
  {
   "cell_type": "markdown",
   "metadata": {},
   "source": [
    "- Maior e Igual `>=` ou Menor e Igual `<=`"
   ]
  },
  {
   "cell_type": "markdown",
   "metadata": {},
   "source": [
    "- Somente valores Pares"
   ]
  },
  {
   "cell_type": "markdown",
   "metadata": {},
   "source": [
    "- Somente valores Ímpares"
   ]
  },
  {
   "cell_type": "markdown",
   "metadata": {},
   "source": [
    "##  <font color = red> - Plotar Gráficos <br>\n",
    "- Importar biblioteca `Matplotlib`\n",
    "    \n",
    "##### Referência\n",
    "https://matplotlib.org/tutorials/introductory/sample_plots.html"
   ]
  },
  {
   "cell_type": "markdown",
   "metadata": {},
   "source": [
    "##  <font color = red> - Gráfico de Linha\n",
    "\n",
    "##### Referência\n",
    "https://matplotlib.org/api/_as_gen/matplotlib.pyplot.plot.html"
   ]
  },
  {
   "cell_type": "markdown",
   "metadata": {},
   "source": [
    "- Colocar Título e Legenda nos eixos do gráfico"
   ]
  },
  {
   "cell_type": "markdown",
   "metadata": {},
   "source": [
    "- Alterar o tamanho do Gráfico"
   ]
  },
  {
   "cell_type": "markdown",
   "metadata": {},
   "source": [
    "- Posição da legenda\n",
    "\n",
    "https://matplotlib.org/api/legend_api.html\n",
    "\n",
    "Location String\tLocation Code <br>\n",
    "'best' ===> 0<br>\n",
    "'upper right' ===> 1<br>\n",
    "'upper left' ===> 2<br>\n",
    "'lower left' ===> 3<br>\n",
    "'lower right' ===> 4<br>\n",
    "'right' ===> 5<br>\n",
    "'center left' ===> 6<br>\n",
    "'center right' ===> 7<br>\n",
    "'lower center' ===>\t8<br>\n",
    "'upper center' ===> 9<br>\n",
    "'center' ===> 10<br>"
   ]
  },
  {
   "cell_type": "markdown",
   "metadata": {},
   "source": [
    "- Mudar a cor do Gráfico de Linha"
   ]
  },
  {
   "cell_type": "markdown",
   "metadata": {},
   "source": [
    "- Adicionar linhas grades no gráfico de linha"
   ]
  },
  {
   "cell_type": "markdown",
   "metadata": {},
   "source": [
    "##  <font color = red> -  Histograma\n",
    "\n",
    "##### Referência\n",
    "https://matplotlib.org/api/_as_gen/matplotlib.pyplot.hist.html"
   ]
  },
  {
   "cell_type": "markdown",
   "metadata": {},
   "source": [
    "- Alterar a quantidade de barras"
   ]
  },
  {
   "cell_type": "markdown",
   "metadata": {},
   "source": [
    "- Alterar a cor do Histograma"
   ]
  },
  {
   "cell_type": "markdown",
   "metadata": {},
   "source": [
    "- Adicionar linhas grades no histograma"
   ]
  },
  {
   "cell_type": "markdown",
   "metadata": {},
   "source": [
    "##  <font color = red> -  Boxplot\n",
    "\n",
    "##### Referência\n",
    "https://matplotlib.org/api/_as_gen/matplotlib.pyplot.boxplot.html"
   ]
  },
  {
   "cell_type": "markdown",
   "metadata": {},
   "source": [
    "## <font color = red> - Melhorando os gráficos"
   ]
  },
  {
   "cell_type": "markdown",
   "metadata": {},
   "source": [
    "## <font color = red> - Melhorando os gráficos\n",
    "- Criar um gráfico em branco"
   ]
  },
  {
   "cell_type": "markdown",
   "metadata": {},
   "source": [
    "- Título no Gráfico\n",
    "\n",
    "##### Referência\n",
    "https://matplotlib.org/api/_as_gen/matplotlib.axes.Axes.set_title.html\n",
    "\n",
    "#### `ax.set_title` ===> Coloca um Título no Gráfico\n",
    "\n",
    "##### Referência\n",
    "https://matplotlib.org/api/_as_gen/matplotlib.axes.Axes.set_title.html\n",
    "\n",
    "- Customizando o Título\n",
    "#### `size`  ===> Mudar o tamanho\n",
    "\n",
    "\n",
    "#### `color`  ===> Muda a Cor\n",
    "\n",
    "##### Especificar as Cores\n",
    "\n",
    "- a hex RGB or RGBA string (e.g., '#0F0F0F' or '#0F0F0F0F')\n",
    "- one of {'b', 'g', 'r', 'c', 'm', 'y', 'k', 'w'}\n",
    "- one of {'C0', 'C1', 'C2', 'C3', 'C4', 'C5', 'C6', 'C7', 'C8', 'C9'}\n",
    "- one of {'tab:blue', 'tab:orange', 'tab:green', 'tab:red', 'tab:purple', 'tab:brown', 'tab:pink', 'tab:gray', 'tab:olive', 'tab:cyan'} which are the Tableau Colors from the ‘T10’ categorical palette (which is the default color cycle).<br>\n",
    "\n",
    "##### Paleta de cores RGB ou RGBA \n",
    "http://www.ufpa.br/dicas/htm/htm-cor1.htm <br>\n",
    "http://www.ufpa.br/dicas/htm/htm-cor2.htm <br>\n",
    "http://www.csro.com.br/outros/tabela_rgb.html\n",
    "\n",
    "#### `weight` ===> Muda o tipo da fonte\n",
    "\n",
    "['normal' | 'bold' | 'heavy' | 'light' | 'ultrabold' | 'ultralight']\n",
    "\n",
    "#### `style` ===> Estilo da fonte\n",
    "[ 'normal' | 'italic' | 'oblique' ]"
   ]
  },
  {
   "cell_type": "markdown",
   "metadata": {},
   "source": [
    "- Definir o Gráfico usar como exemplo o Boxplo"
   ]
  },
  {
   "cell_type": "markdown",
   "metadata": {},
   "source": [
    "-  Colocar legenda no eixo y"
   ]
  },
  {
   "cell_type": "markdown",
   "metadata": {},
   "source": [
    " - Colocar legenda no boxplot  ou quando tiver mais de um boxplot"
   ]
  },
  {
   "cell_type": "markdown",
   "metadata": {},
   "source": [
    "- Mudar o estilo do Boxplot destacando a Mediana"
   ]
  },
  {
   "cell_type": "markdown",
   "metadata": {},
   "source": [
    "- Boxplot horizontal"
   ]
  },
  {
   "cell_type": "markdown",
   "metadata": {},
   "source": [
    "## <font color = red> -  Plotar gráficos sobrepostos"
   ]
  },
  {
   "cell_type": "markdown",
   "metadata": {},
   "source": [
    "## <font color = red> -  Plotar Vários Gráficos (1 x 3)"
   ]
  },
  {
   "cell_type": "markdown",
   "metadata": {},
   "source": [
    "## <font color = red> -  Plotar Vários Gráficos (2 x 2)"
   ]
  },
  {
   "cell_type": "markdown",
   "metadata": {},
   "source": [
    "## <font color = red> # `.tight_layout()`\n",
    " - Evita sobreposição de figuras\n",
    " \n",
    "###### Referência\n",
    "https://matplotlib.org/users/tight_layout_guide.html"
   ]
  },
  {
   "cell_type": "markdown",
   "metadata": {},
   "source": [
    "## <font color = red># `savefig`\n",
    "- Salvar figura\n",
    "    \n",
    "##### Referência\n",
    "https://matplotlib.org/api/_as_gen/matplotlib.pyplot.savefig.html"
   ]
  },
  {
   "cell_type": "markdown",
   "metadata": {},
   "source": [
    "## <font color = red># `style.use`\n",
    "- Mudar o estiplo do plor\n",
    "##### Referência\n",
    "https://matplotlib.org/users/style_sheets.html"
   ]
  }
 ],
 "metadata": {
  "kernelspec": {
   "display_name": "Python 3",
   "language": "python",
   "name": "python3"
  },
  "language_info": {
   "codemirror_mode": {
    "name": "ipython",
    "version": 3
   },
   "file_extension": ".py",
   "mimetype": "text/x-python",
   "name": "python",
   "nbconvert_exporter": "python",
   "pygments_lexer": "ipython3",
   "version": "3.7.1"
  }
 },
 "nbformat": 4,
 "nbformat_minor": 2
}
