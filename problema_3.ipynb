{
 "cells": [
  {
   "cell_type": "markdown",
   "metadata": {},
   "source": [
    "#### Dados\n",
    "\n",
    "O arquivo **altura.xlsx** tem a variável gênero (M - masculino/F - feminino) e altura (polegadas) de crianças.\n",
    "\n",
    "####  1ª Questão: Execute.\n",
    "\n",
    "1. importe o modulo pandas com álias pd.\n",
    "2. importe o modulo matplotlib.pyploy com álias plt.\n",
    "3. Use o método *read_excel* para ler o arquivo **altura.xlsx**, os dados dejesados estão na pasta **altura**, e criar o data frame **dado**.\n"
   ]
  },
  {
   "cell_type": "markdown",
   "metadata": {},
   "source": [
    "\n",
    "####  2ª Questão: Execute:\n",
    "\n",
    "1. Use o método *describe()* da variável **altura**  para obter as estatístidas: número de observações, média, desvio padrão, valor mínimo, máximo, 1ª quartil, 2º quartil e 3º quartil\n",
    "2. Use o método *plot()*, com o argumento *kind='hist'*, para fazer o histograma da variável **altura**.\n",
    "3. Use o método *plot()*, com o argumento *kind='box'*, para fazer um boxplot da variável **altura**."
   ]
  },
  {
   "cell_type": "markdown",
   "metadata": {},
   "source": [
    "#### 3 ª Questão: Responta:\n",
    "\n",
    "1. Como posso classificar a variável **altura** em quantitativa (contínua/discreta) ou em qualitatíva (nominal/ordinal)?\n",
    "\n",
    "    + Res: \n",
    "\n",
    "2. Analisando o boxplot é possível verificar algum valor muito para a variável **altura**?\n",
    "    \n",
    "    + Res: \n",
    "    \n",
    "3. Com base no histograma é possivel afirmar que uma pessoa com 56 polegadas é do genero masculino?\n",
    "    + "
   ]
  },
  {
   "cell_type": "markdown",
   "metadata": {},
   "source": [
    "#### 4º Questão: O código abaixo utilza o método **groupby**  para saber o número de observações por gênero.\n",
    "```\n",
    "grupo = dado['altura'].groupby(dado['genero'])\n",
    "grupo.count()\n",
    "```\n",
    "\n",
    "1. Aplique o método describe da variável **altura** para cada gênero.\n",
    "2. Qual o valor da diferença entre as médias das alturas masculinas e femininas?\n",
    "3. Uma pessoa com 56 polegadas é do genero masculino? E com 79 polegadas?"
   ]
  },
  {
   "cell_type": "markdown",
   "metadata": {},
   "source": [
    "#### 5ª Questão: Execute o código.\n",
    "\n",
    "```\n",
    "grupo.plot(kind='hist',\n",
    "           alpha=0.5,\n",
    "           legend=True,\n",
    "           title=\"Alturas (pol) por genero.\")\n",
    "plt.show()\n",
    "```\n",
    "\n",
    "1. Interprete esse gráfico.\n",
    "2. Altere o parametro *alpha* para 1. Qual foi o efeito?\n",
    "3. Suprima a legenda e faça o título ser \"Alô mundo!!!\"\n"
   ]
  },
  {
   "cell_type": "code",
   "execution_count": null,
   "metadata": {
    "collapsed": true
   },
   "outputs": [],
   "source": []
  }
 ],
 "metadata": {
  "kernelspec": {
   "display_name": "Python 3",
   "language": "python",
   "name": "python3"
  },
  "language_info": {
   "codemirror_mode": {
    "name": "ipython",
    "version": 3
   },
   "file_extension": ".py",
   "mimetype": "text/x-python",
   "name": "python",
   "nbconvert_exporter": "python",
   "pygments_lexer": "ipython3",
   "version": "3.6.3"
  }
 },
 "nbformat": 4,
 "nbformat_minor": 2
}
